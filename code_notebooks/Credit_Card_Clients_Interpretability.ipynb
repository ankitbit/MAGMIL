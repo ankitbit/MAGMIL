{
 "cells": [
  {
   "cell_type": "code",
   "execution_count": 1,
   "metadata": {},
   "outputs": [],
   "source": [
    "# h2o Python API with specific classes\n",
    "import h2o \n",
    "from h2o.estimators.glm import H2OGeneralizedLinearEstimator # for LIME\n",
    "from h2o.estimators.gbm import H2OGradientBoostingEstimator  # for GBM\n",
    "\n",
    "import operator # for sorting dictionaries\n",
    "\n",
    "import numpy as np   # array, vector, matrix calculations\n",
    "import pandas as pd  # DataFrame handling\n",
    "\n",
    "# display plots in notebook\n",
    "%matplotlib inline"
   ]
  },
  {
   "cell_type": "code",
   "execution_count": 2,
   "metadata": {},
   "outputs": [
    {
     "name": "stdout",
     "output_type": "stream",
     "text": [
      "Checking whether there is an H2O instance running at http://localhost:54321..... not found.\n",
      "Attempting to start a local H2O server...\n",
      "  Java Version: java version \"1.8.0_161\"; Java(TM) SE Runtime Environment (build 1.8.0_161-b12); Java HotSpot(TM) 64-Bit Server VM (build 25.161-b12, mixed mode)\n",
      "  Starting server from /home/acmankit/anaconda3/envs/py35/lib/python3.5/site-packages/h2o/backend/bin/h2o.jar\n",
      "  Ice root: /tmp/tmpgd7q09xc\n",
      "  JVM stdout: /tmp/tmpgd7q09xc/h2o_acmankit_started_from_python.out\n",
      "  JVM stderr: /tmp/tmpgd7q09xc/h2o_acmankit_started_from_python.err\n",
      "  Server is running at http://127.0.0.1:54321\n",
      "Connecting to H2O server at http://127.0.0.1:54321... successful.\n"
     ]
    },
    {
     "data": {
      "text/html": [
       "<div style=\"overflow:auto\"><table style=\"width:50%\"><tr><td>H2O cluster uptime:</td>\n",
       "<td>06 secs</td></tr>\n",
       "<tr><td>H2O cluster timezone:</td>\n",
       "<td>Europe/Madrid</td></tr>\n",
       "<tr><td>H2O data parsing timezone:</td>\n",
       "<td>UTC</td></tr>\n",
       "<tr><td>H2O cluster version:</td>\n",
       "<td>3.18.0.8</td></tr>\n",
       "<tr><td>H2O cluster version age:</td>\n",
       "<td>8 days </td></tr>\n",
       "<tr><td>H2O cluster name:</td>\n",
       "<td>H2O_from_python_acmankit_qy0xym</td></tr>\n",
       "<tr><td>H2O cluster total nodes:</td>\n",
       "<td>1</td></tr>\n",
       "<tr><td>H2O cluster free memory:</td>\n",
       "<td>1.778 Gb</td></tr>\n",
       "<tr><td>H2O cluster total cores:</td>\n",
       "<td>4</td></tr>\n",
       "<tr><td>H2O cluster allowed cores:</td>\n",
       "<td>4</td></tr>\n",
       "<tr><td>H2O cluster status:</td>\n",
       "<td>accepting new members, healthy</td></tr>\n",
       "<tr><td>H2O connection url:</td>\n",
       "<td>http://127.0.0.1:54321</td></tr>\n",
       "<tr><td>H2O connection proxy:</td>\n",
       "<td>None</td></tr>\n",
       "<tr><td>H2O internal security:</td>\n",
       "<td>False</td></tr>\n",
       "<tr><td>H2O API Extensions:</td>\n",
       "<td>XGBoost, Algos, AutoML, Core V3, Core V4</td></tr>\n",
       "<tr><td>Python version:</td>\n",
       "<td>3.5.4 final</td></tr></table></div>"
      ],
      "text/plain": [
       "--------------------------  ----------------------------------------\n",
       "H2O cluster uptime:         06 secs\n",
       "H2O cluster timezone:       Europe/Madrid\n",
       "H2O data parsing timezone:  UTC\n",
       "H2O cluster version:        3.18.0.8\n",
       "H2O cluster version age:    8 days\n",
       "H2O cluster name:           H2O_from_python_acmankit_qy0xym\n",
       "H2O cluster total nodes:    1\n",
       "H2O cluster free memory:    1.778 Gb\n",
       "H2O cluster total cores:    4\n",
       "H2O cluster allowed cores:  4\n",
       "H2O cluster status:         accepting new members, healthy\n",
       "H2O connection url:         http://127.0.0.1:54321\n",
       "H2O connection proxy:\n",
       "H2O internal security:      False\n",
       "H2O API Extensions:         XGBoost, Algos, AutoML, Core V3, Core V4\n",
       "Python version:             3.5.4 final\n",
       "--------------------------  ----------------------------------------"
      ]
     },
     "metadata": {},
     "output_type": "display_data"
    }
   ],
   "source": [
    "h2o.init(max_mem_size='2G')       # start h2o\n",
    "h2o.remove_all()                  # remove any existing data structures from h2o memory"
   ]
  },
  {
   "cell_type": "code",
   "execution_count": 5,
   "metadata": {},
   "outputs": [],
   "source": [
    "# import XLS file\n",
    "path = 'default_of_credit_card_clients.xls'\n",
    "data = pd.read_excel(path,skiprows=1)\n",
    "\n",
    "# remove spaces from target column name \n",
    "data = data.rename(columns={'default payment next month': 'DEFAULT_NEXT_MONTH'}) "
   ]
  },
  {
   "cell_type": "code",
   "execution_count": 6,
   "metadata": {},
   "outputs": [
    {
     "name": "stdout",
     "output_type": "stream",
     "text": [
      "y = DEFAULT_NEXT_MONTH\n",
      "X = ['LIMIT_BAL', 'SEX', 'EDUCATION', 'MARRIAGE', 'AGE', 'PAY_0', 'PAY_2', 'PAY_3', 'PAY_4', 'PAY_5', 'PAY_6', 'BILL_AMT1', 'BILL_AMT2', 'BILL_AMT3', 'BILL_AMT4', 'BILL_AMT5', 'BILL_AMT6', 'PAY_AMT1', 'PAY_AMT2', 'PAY_AMT3', 'PAY_AMT4', 'PAY_AMT5', 'PAY_AMT6']\n"
     ]
    }
   ],
   "source": [
    "# assign target and inputs for GBM\n",
    "y = 'DEFAULT_NEXT_MONTH'\n",
    "X = [name for name in data.columns if name not in [y, 'ID']]\n",
    "print('y =', y)\n",
    "print('X =', X)"
   ]
  },
  {
   "cell_type": "code",
   "execution_count": 7,
   "metadata": {},
   "outputs": [
    {
     "name": "stdout",
     "output_type": "stream",
     "text": [
      "Parse progress: |█████████████████████████████████████████████████████████| 100%\n"
     ]
    }
   ],
   "source": [
    "def recode_cc_data(frame):\n",
    "    \n",
    "    \"\"\" Recodes numeric categorical variables into categorical character variables\n",
    "    with more transparent values. \n",
    "    \n",
    "    Args:\n",
    "        frame: Pandas DataFrame version of UCI credit card default data.\n",
    "        \n",
    "    Returns: \n",
    "        H2OFrame with recoded values.\n",
    "        \n",
    "    \"\"\"\n",
    "    \n",
    "    # define recoded values\n",
    "    sex_dict = {1:'male', 2:'female'}\n",
    "    education_dict = {0:'other', 1:'graduate school', 2:'university', 3:'high school', \n",
    "                      4:'other', 5:'other', 6:'other'}\n",
    "    marriage_dict = {0:'other', 1:'married', 2:'single', 3:'divorced'}\n",
    "    pay_dict = {-2:'no consumption', -1:'pay duly', 0:'use of revolving credit', 1:'1 month delay', \n",
    "                2:'2 month delay', 3:'3 month delay', 4:'4 month delay', 5:'5 month delay', 6:'6 month delay', \n",
    "                7:'7 month delay', 8:'8 month delay', 9:'9+ month delay'}\n",
    "    \n",
    "    # recode values using Pandas apply() and anonymous function\n",
    "    frame['SEX'] = frame['SEX'].apply(lambda i: sex_dict[i])\n",
    "    frame['EDUCATION'] = frame['EDUCATION'].apply(lambda i: education_dict[i])    \n",
    "    frame['MARRIAGE'] = frame['MARRIAGE'].apply(lambda i: marriage_dict[i]) \n",
    "    for name in frame.columns:\n",
    "        if name in ['PAY_0', 'PAY_2', 'PAY_3', 'PAY_4', 'PAY_5', 'PAY_6']:\n",
    "            frame[name] = frame[name].apply(lambda i: pay_dict[i])            \n",
    "                \n",
    "    return h2o.H2OFrame(frame)\n",
    "\n",
    "data = recode_cc_data(data)"
   ]
  },
  {
   "cell_type": "code",
   "execution_count": 8,
   "metadata": {},
   "outputs": [],
   "source": [
    "data[y] = data[y].asfactor() "
   ]
  },
  {
   "cell_type": "code",
   "execution_count": 9,
   "metadata": {},
   "outputs": [
    {
     "name": "stdout",
     "output_type": "stream",
     "text": [
      "Train data rows = 21060, columns = 25\n",
      "Test data rows = 8940, columns = 25\n"
     ]
    }
   ],
   "source": [
    "# split into training and validation\n",
    "train, test = data.split_frame([0.7], seed=12345)\n",
    "\n",
    "# summarize split\n",
    "print('Train data rows = %d, columns = %d' % (train.shape[0], train.shape[1]))\n",
    "print('Test data rows = %d, columns = %d' % (test.shape[0], test.shape[1]))"
   ]
  },
  {
   "cell_type": "code",
   "execution_count": 10,
   "metadata": {},
   "outputs": [
    {
     "name": "stdout",
     "output_type": "stream",
     "text": [
      "gbm Model Build progress: |███████████████████████████████████████████████| 100%\n",
      "GBM Test AUC = 0.78\n"
     ]
    }
   ],
   "source": [
    "# initialize GBM model\n",
    "model = H2OGradientBoostingEstimator(ntrees=150,            # maximum 150 trees in GBM\n",
    "                                     max_depth=4,           # trees can have maximum depth of 4\n",
    "                                     sample_rate=0.9,       # use 90% of rows in each iteration (tree)\n",
    "                                     col_sample_rate=0.9,   # use 90% of variables in each iteration (tree)\n",
    "                                     stopping_rounds=5,     # stop if validation error does not decrease for 5 iterations (trees)\n",
    "                                     score_tree_interval=1, # for reproducibility, set higher for bigger data\n",
    "                                     seed=12345)            # random seed for reproducibility\n",
    "\n",
    "# train a GBM model\n",
    "model.train(y=y, x=X, training_frame=train, validation_frame=test)\n",
    "\n",
    "# print AUC\n",
    "print('GBM Test AUC = %.2f' % model.auc(valid=True))"
   ]
  },
  {
   "cell_type": "code",
   "execution_count": 11,
   "metadata": {},
   "outputs": [
    {
     "data": {
      "text/html": [
       "<table>\n",
       "<thead>\n",
       "<tr><th style=\"text-align: right;\">   ID</th><th style=\"text-align: right;\">  LIMIT_BAL</th><th>SEX   </th><th>EDUCATION  </th><th>MARRIAGE  </th><th style=\"text-align: right;\">  AGE</th><th>PAY_0        </th><th>PAY_2        </th><th>PAY_3        </th><th>PAY_4        </th><th>PAY_5        </th><th>PAY_6        </th><th style=\"text-align: right;\">  BILL_AMT1</th><th style=\"text-align: right;\">  BILL_AMT2</th><th style=\"text-align: right;\">  BILL_AMT3</th><th style=\"text-align: right;\">  BILL_AMT4</th><th style=\"text-align: right;\">  BILL_AMT5</th><th style=\"text-align: right;\">  BILL_AMT6</th><th style=\"text-align: right;\">  PAY_AMT1</th><th style=\"text-align: right;\">  PAY_AMT2</th><th style=\"text-align: right;\">  PAY_AMT3</th><th style=\"text-align: right;\">  PAY_AMT4</th><th style=\"text-align: right;\">  PAY_AMT5</th><th style=\"text-align: right;\">  PAY_AMT6</th><th style=\"text-align: right;\">  DEFAULT_NEXT_MONTH</th></tr>\n",
       "</thead>\n",
       "<tbody>\n",
       "<tr><td style=\"text-align: right;\">29116</td><td style=\"text-align: right;\">      20000</td><td>female</td><td>university </td><td>married   </td><td style=\"text-align: right;\">   59</td><td>3 month delay</td><td>2 month delay</td><td>3 month delay</td><td>2 month delay</td><td>2 month delay</td><td>4 month delay</td><td style=\"text-align: right;\">       8803</td><td style=\"text-align: right;\">      11137</td><td style=\"text-align: right;\">      10672</td><td style=\"text-align: right;\">      11201</td><td style=\"text-align: right;\">      12721</td><td style=\"text-align: right;\">      11946</td><td style=\"text-align: right;\">      2800</td><td style=\"text-align: right;\">         0</td><td style=\"text-align: right;\">      1000</td><td style=\"text-align: right;\">      2000</td><td style=\"text-align: right;\">         0</td><td style=\"text-align: right;\">         0</td><td style=\"text-align: right;\">                   1</td></tr>\n",
       "</tbody>\n",
       "</table>"
      ]
     },
     "metadata": {},
     "output_type": "display_data"
    },
    {
     "data": {
      "text/plain": []
     },
     "execution_count": 11,
     "metadata": {},
     "output_type": "execute_result"
    }
   ],
   "source": [
    "row = test[test['ID'] == 29116]\n",
    "row"
   ]
  },
  {
   "cell_type": "code",
   "execution_count": 12,
   "metadata": {},
   "outputs": [
    {
     "data": {
      "text/html": [
       "<div>\n",
       "<style scoped>\n",
       "    .dataframe tbody tr th:only-of-type {\n",
       "        vertical-align: middle;\n",
       "    }\n",
       "\n",
       "    .dataframe tbody tr th {\n",
       "        vertical-align: top;\n",
       "    }\n",
       "\n",
       "    .dataframe thead th {\n",
       "        text-align: right;\n",
       "    }\n",
       "</style>\n",
       "<table border=\"1\" class=\"dataframe\">\n",
       "  <thead>\n",
       "    <tr style=\"text-align: right;\">\n",
       "      <th></th>\n",
       "      <th>LIMIT_BAL</th>\n",
       "      <th>SEX</th>\n",
       "      <th>EDUCATION</th>\n",
       "      <th>MARRIAGE</th>\n",
       "      <th>AGE</th>\n",
       "      <th>PAY_0</th>\n",
       "      <th>PAY_2</th>\n",
       "      <th>PAY_3</th>\n",
       "      <th>PAY_4</th>\n",
       "      <th>PAY_5</th>\n",
       "      <th>...</th>\n",
       "      <th>BILL_AMT3</th>\n",
       "      <th>BILL_AMT4</th>\n",
       "      <th>BILL_AMT5</th>\n",
       "      <th>BILL_AMT6</th>\n",
       "      <th>PAY_AMT1</th>\n",
       "      <th>PAY_AMT2</th>\n",
       "      <th>PAY_AMT3</th>\n",
       "      <th>PAY_AMT4</th>\n",
       "      <th>PAY_AMT5</th>\n",
       "      <th>PAY_AMT6</th>\n",
       "    </tr>\n",
       "  </thead>\n",
       "  <tbody>\n",
       "    <tr>\n",
       "      <th>0</th>\n",
       "      <td>9988.454213</td>\n",
       "      <td>female</td>\n",
       "      <td>graduate school</td>\n",
       "      <td>divorced</td>\n",
       "      <td>58.287510</td>\n",
       "      <td>5 month delay</td>\n",
       "      <td>5 month delay</td>\n",
       "      <td>5 month delay</td>\n",
       "      <td>5 month delay</td>\n",
       "      <td>6 month delay</td>\n",
       "      <td>...</td>\n",
       "      <td>5433.340804</td>\n",
       "      <td>6276.576876</td>\n",
       "      <td>8055.530587</td>\n",
       "      <td>7347.467911</td>\n",
       "      <td>1597.834490</td>\n",
       "      <td>0.000000</td>\n",
       "      <td>1000.000000</td>\n",
       "      <td>823.253257</td>\n",
       "      <td>0.000000</td>\n",
       "      <td>0.000000</td>\n",
       "    </tr>\n",
       "    <tr>\n",
       "      <th>1</th>\n",
       "      <td>181039.642122</td>\n",
       "      <td>male</td>\n",
       "      <td>high school</td>\n",
       "      <td>married</td>\n",
       "      <td>70.460689</td>\n",
       "      <td>pay duly</td>\n",
       "      <td>pay duly</td>\n",
       "      <td>pay duly</td>\n",
       "      <td>pay duly</td>\n",
       "      <td>use of revolving credit</td>\n",
       "      <td>...</td>\n",
       "      <td>94937.888614</td>\n",
       "      <td>90412.278099</td>\n",
       "      <td>87766.906051</td>\n",
       "      <td>85915.192926</td>\n",
       "      <td>22137.303918</td>\n",
       "      <td>25583.930273</td>\n",
       "      <td>21802.010398</td>\n",
       "      <td>20928.433066</td>\n",
       "      <td>19123.775929</td>\n",
       "      <td>22563.515833</td>\n",
       "    </tr>\n",
       "    <tr>\n",
       "      <th>2</th>\n",
       "      <td>20000.000000</td>\n",
       "      <td>male</td>\n",
       "      <td>university</td>\n",
       "      <td>single</td>\n",
       "      <td>43.284233</td>\n",
       "      <td>7 month delay</td>\n",
       "      <td>7 month delay</td>\n",
       "      <td>7 month delay</td>\n",
       "      <td>7 month delay</td>\n",
       "      <td>8 month delay</td>\n",
       "      <td>...</td>\n",
       "      <td>10672.000000</td>\n",
       "      <td>11201.000000</td>\n",
       "      <td>12721.000000</td>\n",
       "      <td>11946.000000</td>\n",
       "      <td>2800.000000</td>\n",
       "      <td>0.000000</td>\n",
       "      <td>1000.000000</td>\n",
       "      <td>2000.000000</td>\n",
       "      <td>0.000000</td>\n",
       "      <td>0.000000</td>\n",
       "    </tr>\n",
       "  </tbody>\n",
       "</table>\n",
       "<p>3 rows × 23 columns</p>\n",
       "</div>"
      ],
      "text/plain": [
       "       LIMIT_BAL     SEX        EDUCATION  MARRIAGE        AGE          PAY_0  \\\n",
       "0    9988.454213  female  graduate school  divorced  58.287510  5 month delay   \n",
       "1  181039.642122    male      high school   married  70.460689       pay duly   \n",
       "2   20000.000000    male       university    single  43.284233  7 month delay   \n",
       "\n",
       "           PAY_2          PAY_3          PAY_4                    PAY_5  \\\n",
       "0  5 month delay  5 month delay  5 month delay            6 month delay   \n",
       "1       pay duly       pay duly       pay duly  use of revolving credit   \n",
       "2  7 month delay  7 month delay  7 month delay            8 month delay   \n",
       "\n",
       "       ...          BILL_AMT3     BILL_AMT4     BILL_AMT5     BILL_AMT6  \\\n",
       "0      ...        5433.340804   6276.576876   8055.530587   7347.467911   \n",
       "1      ...       94937.888614  90412.278099  87766.906051  85915.192926   \n",
       "2      ...       10672.000000  11201.000000  12721.000000  11946.000000   \n",
       "\n",
       "       PAY_AMT1      PAY_AMT2      PAY_AMT3      PAY_AMT4      PAY_AMT5  \\\n",
       "0   1597.834490      0.000000   1000.000000    823.253257      0.000000   \n",
       "1  22137.303918  25583.930273  21802.010398  20928.433066  19123.775929   \n",
       "2   2800.000000      0.000000   1000.000000   2000.000000      0.000000   \n",
       "\n",
       "       PAY_AMT6  \n",
       "0      0.000000  \n",
       "1  22563.515833  \n",
       "2      0.000000  \n",
       "\n",
       "[3 rows x 23 columns]"
      ]
     },
     "execution_count": 12,
     "metadata": {},
     "output_type": "execute_result"
    }
   ],
   "source": [
    "def generate_local_sample(row, frame, X, N=1000):\n",
    "    \n",
    "    \"\"\" Generates a perturbed sample around a row of interest.\n",
    "    \n",
    "    Args:\n",
    "        row: Row of H2OFrame to be explained.\n",
    "        frame: H2OFrame in which row is stored.\n",
    "        X: List of model input variables.\n",
    "        N: Number of samples to generate.\n",
    "    \n",
    "    Returns:\n",
    "        Pandas DataFrame containing perturbed sample.\n",
    "    \n",
    "    \"\"\"\n",
    "    \n",
    "    # initialize Pandas DataFrame\n",
    "    sample_frame = pd.DataFrame(data=np.zeros(shape=(N, len(X))), columns=X)\n",
    "    \n",
    "    # generate column vectors of \n",
    "    # randomly drawn levels for categorical variables\n",
    "    # normally distributed numeric values around mean of column for numeric variables\n",
    "    for key, val in frame[X].types.items():\n",
    "        if val == 'enum': # 'enum' means categorical\n",
    "            rs = np.random.RandomState(11111) # random seed for reproducibility\n",
    "            draw = rs.choice(frame[key].levels()[0], size=(1, N))[0]\n",
    "        else:\n",
    "            rs = np.random.RandomState(11111) # random seed for reproducibility\n",
    "            loc = row[key][0, 0]\n",
    "            sd = frame[key].sd()\n",
    "            draw = rs.normal(loc, sd, (N, 1))\n",
    "            draw[draw < 0] = loc # prevents unrealistic values when std. dev. is large\n",
    "        \n",
    "        sample_frame[key] = draw\n",
    "        \n",
    "    return sample_frame\n",
    "\n",
    "# run and display results\n",
    "perturbed_sample = generate_local_sample(row, test, X)\n",
    "perturbed_sample.head(n=3)"
   ]
  },
  {
   "cell_type": "code",
   "execution_count": 13,
   "metadata": {},
   "outputs": [
    {
     "name": "stdout",
     "output_type": "stream",
     "text": [
      "Parse progress: |█████████████████████████████████████████████████████████| 100%\n"
     ]
    },
    {
     "data": {
      "text/html": [
       "<table>\n",
       "<thead>\n",
       "<tr><th style=\"text-align: right;\">  LIMIT_BAL</th><th style=\"text-align: right;\">     AGE</th><th style=\"text-align: right;\">  BILL_AMT1</th><th style=\"text-align: right;\">  BILL_AMT2</th><th style=\"text-align: right;\">  BILL_AMT3</th><th style=\"text-align: right;\">  BILL_AMT4</th><th style=\"text-align: right;\">  BILL_AMT5</th><th style=\"text-align: right;\">  BILL_AMT6</th><th style=\"text-align: right;\">  PAY_AMT1</th><th style=\"text-align: right;\">  PAY_AMT2</th><th style=\"text-align: right;\">  PAY_AMT3</th><th style=\"text-align: right;\">  PAY_AMT4</th><th style=\"text-align: right;\">  PAY_AMT5</th><th style=\"text-align: right;\">  PAY_AMT6</th><th style=\"text-align: right;\">  SEX_female</th><th style=\"text-align: right;\">  EDUCATION_graduate school</th><th style=\"text-align: right;\">  MARRIAGE_married</th><th style=\"text-align: right;\">  PAY_0_3 month delay</th><th style=\"text-align: right;\">  PAY_2_2 month delay</th><th style=\"text-align: right;\">  PAY_3_2 month delay</th><th style=\"text-align: right;\">  PAY_4_3 month delay</th><th style=\"text-align: right;\">  PAY_5_3 month delay</th><th style=\"text-align: right;\">  PAY_6_3 month delay</th></tr>\n",
       "</thead>\n",
       "<tbody>\n",
       "<tr><td style=\"text-align: right;\">    2.24639</td><td style=\"text-align: right;\">0.481433</td><td style=\"text-align: right;\">   -0.66112</td><td style=\"text-align: right;\">  -0.657958</td><td style=\"text-align: right;\">  -0.651883</td><td style=\"text-align: right;\">  -0.637776</td><td style=\"text-align: right;\">  -0.622867</td><td style=\"text-align: right;\">  -0.609179</td><td style=\"text-align: right;\"> -0.360791</td><td style=\"text-align: right;\"> -0.282325</td><td style=\"text-align: right;\"> -0.315203</td><td style=\"text-align: right;\"> -0.319038</td><td style=\"text-align: right;\"> -0.319074</td><td style=\"text-align: right;\"> -0.270536</td><td style=\"text-align: right;\">           1</td><td style=\"text-align: right;\">                          1</td><td style=\"text-align: right;\">                 1</td><td style=\"text-align: right;\">                    1</td><td style=\"text-align: right;\">                    1</td><td style=\"text-align: right;\">                    1</td><td style=\"text-align: right;\">                    1</td><td style=\"text-align: right;\">                    1</td><td style=\"text-align: right;\">                    1</td></tr>\n",
       "</tbody>\n",
       "</table>"
      ]
     },
     "metadata": {},
     "output_type": "display_data"
    },
    {
     "data": {
      "text/plain": []
     },
     "execution_count": 13,
     "metadata": {},
     "output_type": "execute_result"
    }
   ],
   "source": [
    "# scaling and one-hot encoding for calculating Euclidian distance\n",
    "# for the row of interest\n",
    "\n",
    "# scale numeric\n",
    "numeric = list(set(X) - set(['ID', 'SEX', 'EDUCATION', 'MARRIAGE', 'PAY_0', 'PAY_2',\n",
    "                             'PAY_3', 'PAY_4', 'PAY_5', 'PAY_6', 'DEFAULT_NEXT_MONTH']))\n",
    "\n",
    "scaled_test = test.as_data_frame()\n",
    "scaled_test[numeric] = (scaled_test[numeric] - scaled_test[numeric].mean())/scaled_test[numeric].std()\n",
    "    \n",
    "# encode categorical\n",
    "row_df = scaled_test[scaled_test['ID'] == 22760]\n",
    "row_dummies = pd.concat([row_df.drop(['ID', 'SEX', 'EDUCATION', 'MARRIAGE', 'PAY_0', 'PAY_2',\n",
    "                                      'PAY_3', 'PAY_4', 'PAY_5', 'PAY_6', 'DEFAULT_NEXT_MONTH'], axis=1),\n",
    "                        pd.get_dummies(row_df[['SEX', 'EDUCATION', 'MARRIAGE', 'PAY_0',\n",
    "                                               'PAY_2', 'PAY_3', 'PAY_4', 'PAY_5', 'PAY_6']])], \n",
    "                        axis=1)\n",
    "\n",
    "# convert to H2OFrame\n",
    "row_dummies = h2o.H2OFrame(row_dummies)\n",
    "row_dummies"
   ]
  },
  {
   "cell_type": "code",
   "execution_count": 14,
   "metadata": {},
   "outputs": [
    {
     "name": "stdout",
     "output_type": "stream",
     "text": [
      "Parse progress: |█████████████████████████████████████████████████████████| 100%\n"
     ]
    },
    {
     "data": {
      "text/html": [
       "<table>\n",
       "<thead>\n",
       "<tr><th style=\"text-align: right;\">  LIMIT_BAL</th><th style=\"text-align: right;\">       AGE</th><th style=\"text-align: right;\">  BILL_AMT1</th><th style=\"text-align: right;\">  BILL_AMT2</th><th style=\"text-align: right;\">  BILL_AMT3</th><th style=\"text-align: right;\">  BILL_AMT4</th><th style=\"text-align: right;\">  BILL_AMT5</th><th style=\"text-align: right;\">  BILL_AMT6</th><th style=\"text-align: right;\">  PAY_AMT1</th><th style=\"text-align: right;\">  PAY_AMT2</th><th style=\"text-align: right;\">  PAY_AMT3</th><th style=\"text-align: right;\">  PAY_AMT4</th><th style=\"text-align: right;\">  PAY_AMT5</th><th style=\"text-align: right;\">  PAY_AMT6</th><th style=\"text-align: right;\">  SEX_female</th><th style=\"text-align: right;\">  EDUCATION_graduate school</th><th style=\"text-align: right;\">  MARRIAGE_married</th><th style=\"text-align: right;\">  PAY_0_3 month delay</th><th style=\"text-align: right;\">  PAY_2_2 month delay</th><th style=\"text-align: right;\">  PAY_3_2 month delay</th><th style=\"text-align: right;\">  PAY_4_3 month delay</th><th style=\"text-align: right;\">  PAY_5_3 month delay</th><th style=\"text-align: right;\">  PAY_6_3 month delay</th></tr>\n",
       "</thead>\n",
       "<tbody>\n",
       "<tr><td style=\"text-align: right;\">  -0.845634</td><td style=\"text-align: right;\">-0.0955699</td><td style=\"text-align: right;\">  -0.84979 </td><td style=\"text-align: right;\">  -0.845174</td><td style=\"text-align: right;\">  -0.845174</td><td style=\"text-align: right;\">  -0.83886 </td><td style=\"text-align: right;\">  -0.834367</td><td style=\"text-align: right;\">  -0.834967</td><td style=\"text-align: right;\"> -0.83834 </td><td style=\"text-align: right;\"> -0.723503</td><td style=\"text-align: right;\"> -0.722209</td><td style=\"text-align: right;\"> -0.849042</td><td style=\"text-align: right;\"> -0.723503</td><td style=\"text-align: right;\"> -0.723503</td><td style=\"text-align: right;\">           1</td><td style=\"text-align: right;\">                          1</td><td style=\"text-align: right;\">                 0</td><td style=\"text-align: right;\">                    0</td><td style=\"text-align: right;\">                    0</td><td style=\"text-align: right;\">                    0</td><td style=\"text-align: right;\">                    0</td><td style=\"text-align: right;\">                    0</td><td style=\"text-align: right;\">                    0</td></tr>\n",
       "<tr><td style=\"text-align: right;\">   1.41903 </td><td style=\"text-align: right;\"> 1.2011   </td><td style=\"text-align: right;\">   1.41949 </td><td style=\"text-align: right;\">   1.41897 </td><td style=\"text-align: right;\">   1.41897 </td><td style=\"text-align: right;\">   1.4182  </td><td style=\"text-align: right;\">   1.4176  </td><td style=\"text-align: right;\">   1.41769 </td><td style=\"text-align: right;\">  1.41814 </td><td style=\"text-align: right;\">  1.41999 </td><td style=\"text-align: right;\">  1.41993 </td><td style=\"text-align: right;\">  1.41941 </td><td style=\"text-align: right;\">  1.41999 </td><td style=\"text-align: right;\">  1.41999 </td><td style=\"text-align: right;\">           0</td><td style=\"text-align: right;\">                          0</td><td style=\"text-align: right;\">                 1</td><td style=\"text-align: right;\">                    0</td><td style=\"text-align: right;\">                    0</td><td style=\"text-align: right;\">                    0</td><td style=\"text-align: right;\">                    0</td><td style=\"text-align: right;\">                    0</td><td style=\"text-align: right;\">                    0</td></tr>\n",
       "<tr><td style=\"text-align: right;\">  -0.713084</td><td style=\"text-align: right;\">-1.69369  </td><td style=\"text-align: right;\">  -0.716971</td><td style=\"text-align: right;\">  -0.712654</td><td style=\"text-align: right;\">  -0.712654</td><td style=\"text-align: right;\">  -0.706755</td><td style=\"text-align: right;\">  -0.70256 </td><td style=\"text-align: right;\">  -0.70312 </td><td style=\"text-align: right;\"> -0.706269</td><td style=\"text-align: right;\"> -0.723503</td><td style=\"text-align: right;\"> -0.722209</td><td style=\"text-align: right;\"> -0.716271</td><td style=\"text-align: right;\"> -0.723503</td><td style=\"text-align: right;\"> -0.723503</td><td style=\"text-align: right;\">           0</td><td style=\"text-align: right;\">                          0</td><td style=\"text-align: right;\">                 0</td><td style=\"text-align: right;\">                    0</td><td style=\"text-align: right;\">                    0</td><td style=\"text-align: right;\">                    0</td><td style=\"text-align: right;\">                    0</td><td style=\"text-align: right;\">                    0</td><td style=\"text-align: right;\">                    0</td></tr>\n",
       "</tbody>\n",
       "</table>"
      ]
     },
     "metadata": {},
     "output_type": "display_data"
    },
    {
     "data": {
      "text/plain": []
     },
     "execution_count": 14,
     "metadata": {},
     "output_type": "execute_result"
    }
   ],
   "source": [
    "# scaling and one-hot encoding for calculating Euclidian distance \n",
    "# for the simulated sample\n",
    "\n",
    "# scale\n",
    "scaled_perturbed_sample = perturbed_sample[numeric].copy(deep=True)\n",
    "scaled_perturbed_sample = (scaled_perturbed_sample - scaled_perturbed_sample.mean())/scaled_perturbed_sample.std()\n",
    "\n",
    "# encode\n",
    "perturbed_sample_dummies = pd.concat([scaled_perturbed_sample,\n",
    "                                      pd.get_dummies(perturbed_sample[['SEX', 'EDUCATION', 'MARRIAGE', 'PAY_0',\n",
    "                                                                       'PAY_2', 'PAY_3', 'PAY_4', 'PAY_5', 'PAY_6']])],\n",
    "                                     axis=1)\n",
    "\n",
    "# convert to H2OFrame\n",
    "perturbed_sample_dummies = h2o.H2OFrame(perturbed_sample_dummies[row_dummies.columns])\n",
    "perturbed_sample_dummies.head(rows=3)"
   ]
  },
  {
   "cell_type": "code",
   "execution_count": 15,
   "metadata": {},
   "outputs": [
    {
     "data": {
      "text/html": [
       "<table>\n",
       "<thead>\n",
       "<tr><th style=\"text-align: right;\">  distance</th></tr>\n",
       "</thead>\n",
       "<tbody>\n",
       "<tr><td style=\"text-align: right;\">   287.907</td></tr>\n",
       "<tr><td style=\"text-align: right;\">   253.673</td></tr>\n",
       "<tr><td style=\"text-align: right;\">   282.757</td></tr>\n",
       "</tbody>\n",
       "</table>"
      ]
     },
     "metadata": {},
     "output_type": "display_data"
    },
    {
     "data": {
      "text/plain": []
     },
     "execution_count": 15,
     "metadata": {},
     "output_type": "execute_result"
    }
   ],
   "source": [
    "# calculate distance using H2OFrame distance function\n",
    "distance = row_dummies.distance(perturbed_sample_dummies, measure='l2').transpose()\n",
    "distance.columns = ['distance']          # rename \n",
    "distance = distance.max() - distance     # lower distances, higher weight in LIME\n",
    "distance.head(rows=3)"
   ]
  },
  {
   "cell_type": "code",
   "execution_count": 16,
   "metadata": {},
   "outputs": [
    {
     "name": "stdout",
     "output_type": "stream",
     "text": [
      "Parse progress: |█████████████████████████████████████████████████████████| 100%\n"
     ]
    },
    {
     "data": {
      "text/html": [
       "<table>\n",
       "<thead>\n",
       "<tr><th style=\"text-align: right;\">  LIMIT_BAL</th><th>SEX   </th><th>EDUCATION      </th><th>MARRIAGE  </th><th style=\"text-align: right;\">    AGE</th><th>PAY_0        </th><th>PAY_2        </th><th>PAY_3        </th><th>PAY_4        </th><th>PAY_5                  </th><th>PAY_6                  </th><th style=\"text-align: right;\">  BILL_AMT1</th><th style=\"text-align: right;\">  BILL_AMT2</th><th style=\"text-align: right;\">  BILL_AMT3</th><th style=\"text-align: right;\">  BILL_AMT4</th><th style=\"text-align: right;\">  BILL_AMT5</th><th style=\"text-align: right;\">  BILL_AMT6</th><th style=\"text-align: right;\">  PAY_AMT1</th><th style=\"text-align: right;\">  PAY_AMT2</th><th style=\"text-align: right;\">  PAY_AMT3</th><th style=\"text-align: right;\">  PAY_AMT4</th><th style=\"text-align: right;\">  PAY_AMT5</th><th style=\"text-align: right;\">  PAY_AMT6</th><th style=\"text-align: right;\">  distance</th></tr>\n",
       "</thead>\n",
       "<tbody>\n",
       "<tr><td style=\"text-align: right;\">    9988.45</td><td>female</td><td>graduate school</td><td>divorced  </td><td style=\"text-align: right;\">58.2875</td><td>5 month delay</td><td>5 month delay</td><td>5 month delay</td><td>5 month delay</td><td>6 month delay          </td><td>6 month delay          </td><td style=\"text-align: right;\">    3152.62</td><td style=\"text-align: right;\">    5678.04</td><td style=\"text-align: right;\">    5433.34</td><td style=\"text-align: right;\">    6276.58</td><td style=\"text-align: right;\">    8055.53</td><td style=\"text-align: right;\">    7347.47</td><td style=\"text-align: right;\">   1597.83</td><td style=\"text-align: right;\">       0  </td><td style=\"text-align: right;\">      1000</td><td style=\"text-align: right;\">   823.253</td><td style=\"text-align: right;\">       0  </td><td style=\"text-align: right;\">       0  </td><td style=\"text-align: right;\">   287.907</td></tr>\n",
       "<tr><td style=\"text-align: right;\">  181040   </td><td>male  </td><td>high school    </td><td>married   </td><td style=\"text-align: right;\">70.4607</td><td>pay duly     </td><td>pay duly     </td><td>pay duly     </td><td>pay duly     </td><td>use of revolving credit</td><td>use of revolving credit</td><td style=\"text-align: right;\">   99691.6 </td><td style=\"text-align: right;\">   98946.5 </td><td style=\"text-align: right;\">   94937.9 </td><td style=\"text-align: right;\">   90412.3 </td><td style=\"text-align: right;\">   87766.9 </td><td style=\"text-align: right;\">   85915.2 </td><td style=\"text-align: right;\">  22137.3 </td><td style=\"text-align: right;\">   25583.9</td><td style=\"text-align: right;\">     21802</td><td style=\"text-align: right;\"> 20928.4  </td><td style=\"text-align: right;\">   19123.8</td><td style=\"text-align: right;\">   22563.5</td><td style=\"text-align: right;\">   253.673</td></tr>\n",
       "<tr><td style=\"text-align: right;\">   20000   </td><td>male  </td><td>university     </td><td>single    </td><td style=\"text-align: right;\">43.2842</td><td>7 month delay</td><td>7 month delay</td><td>7 month delay</td><td>7 month delay</td><td>8 month delay          </td><td>8 month delay          </td><td style=\"text-align: right;\">    8803   </td><td style=\"text-align: right;\">   11137   </td><td style=\"text-align: right;\">   10672   </td><td style=\"text-align: right;\">   11201   </td><td style=\"text-align: right;\">   12721   </td><td style=\"text-align: right;\">   11946   </td><td style=\"text-align: right;\">   2800   </td><td style=\"text-align: right;\">       0  </td><td style=\"text-align: right;\">      1000</td><td style=\"text-align: right;\">  2000    </td><td style=\"text-align: right;\">       0  </td><td style=\"text-align: right;\">       0  </td><td style=\"text-align: right;\">   282.757</td></tr>\n",
       "</tbody>\n",
       "</table>"
      ]
     },
     "metadata": {},
     "output_type": "display_data"
    },
    {
     "data": {
      "text/plain": []
     },
     "execution_count": 16,
     "metadata": {},
     "output_type": "execute_result"
    }
   ],
   "source": [
    "perturbed_sample = h2o.H2OFrame(perturbed_sample).cbind(distance)\n",
    "perturbed_sample.head(rows=3)"
   ]
  },
  {
   "cell_type": "code",
   "execution_count": 17,
   "metadata": {},
   "outputs": [
    {
     "name": "stdout",
     "output_type": "stream",
     "text": [
      "gbm prediction progress: |████████████████████████████████████████████████| 100%\n"
     ]
    },
    {
     "data": {
      "text/html": [
       "<table>\n",
       "<thead>\n",
       "<tr><th style=\"text-align: right;\">  LIMIT_BAL</th><th>SEX   </th><th>EDUCATION      </th><th>MARRIAGE  </th><th style=\"text-align: right;\">    AGE</th><th>PAY_0        </th><th>PAY_2        </th><th>PAY_3        </th><th>PAY_4        </th><th>PAY_5                  </th><th>PAY_6                  </th><th style=\"text-align: right;\">  BILL_AMT1</th><th style=\"text-align: right;\">  BILL_AMT2</th><th style=\"text-align: right;\">  BILL_AMT3</th><th style=\"text-align: right;\">  BILL_AMT4</th><th style=\"text-align: right;\">  BILL_AMT5</th><th style=\"text-align: right;\">  BILL_AMT6</th><th style=\"text-align: right;\">  PAY_AMT1</th><th style=\"text-align: right;\">  PAY_AMT2</th><th style=\"text-align: right;\">  PAY_AMT3</th><th style=\"text-align: right;\">  PAY_AMT4</th><th style=\"text-align: right;\">  PAY_AMT5</th><th style=\"text-align: right;\">  PAY_AMT6</th><th style=\"text-align: right;\">  distance</th><th style=\"text-align: right;\">  p_DEFAULT_NEXT_MONTH</th></tr>\n",
       "</thead>\n",
       "<tbody>\n",
       "<tr><td style=\"text-align: right;\">    9988.45</td><td>female</td><td>graduate school</td><td>divorced  </td><td style=\"text-align: right;\">58.2875</td><td>5 month delay</td><td>5 month delay</td><td>5 month delay</td><td>5 month delay</td><td>6 month delay          </td><td>6 month delay          </td><td style=\"text-align: right;\">    3152.62</td><td style=\"text-align: right;\">    5678.04</td><td style=\"text-align: right;\">    5433.34</td><td style=\"text-align: right;\">    6276.58</td><td style=\"text-align: right;\">    8055.53</td><td style=\"text-align: right;\">    7347.47</td><td style=\"text-align: right;\">   1597.83</td><td style=\"text-align: right;\">       0  </td><td style=\"text-align: right;\">      1000</td><td style=\"text-align: right;\">   823.253</td><td style=\"text-align: right;\">       0  </td><td style=\"text-align: right;\">       0  </td><td style=\"text-align: right;\">   287.907</td><td style=\"text-align: right;\">             0.515197 </td></tr>\n",
       "<tr><td style=\"text-align: right;\">  181040   </td><td>male  </td><td>high school    </td><td>married   </td><td style=\"text-align: right;\">70.4607</td><td>pay duly     </td><td>pay duly     </td><td>pay duly     </td><td>pay duly     </td><td>use of revolving credit</td><td>use of revolving credit</td><td style=\"text-align: right;\">   99691.6 </td><td style=\"text-align: right;\">   98946.5 </td><td style=\"text-align: right;\">   94937.9 </td><td style=\"text-align: right;\">   90412.3 </td><td style=\"text-align: right;\">   87766.9 </td><td style=\"text-align: right;\">   85915.2 </td><td style=\"text-align: right;\">  22137.3 </td><td style=\"text-align: right;\">   25583.9</td><td style=\"text-align: right;\">     21802</td><td style=\"text-align: right;\"> 20928.4  </td><td style=\"text-align: right;\">   19123.8</td><td style=\"text-align: right;\">   22563.5</td><td style=\"text-align: right;\">   253.673</td><td style=\"text-align: right;\">             0.0663977</td></tr>\n",
       "<tr><td style=\"text-align: right;\">   20000   </td><td>male  </td><td>university     </td><td>single    </td><td style=\"text-align: right;\">43.2842</td><td>7 month delay</td><td>7 month delay</td><td>7 month delay</td><td>7 month delay</td><td>8 month delay          </td><td>8 month delay          </td><td style=\"text-align: right;\">    8803   </td><td style=\"text-align: right;\">   11137   </td><td style=\"text-align: right;\">   10672   </td><td style=\"text-align: right;\">   11201   </td><td style=\"text-align: right;\">   12721   </td><td style=\"text-align: right;\">   11946   </td><td style=\"text-align: right;\">   2800   </td><td style=\"text-align: right;\">       0  </td><td style=\"text-align: right;\">      1000</td><td style=\"text-align: right;\">  2000    </td><td style=\"text-align: right;\">       0  </td><td style=\"text-align: right;\">       0  </td><td style=\"text-align: right;\">   282.757</td><td style=\"text-align: right;\">             0.692681 </td></tr>\n",
       "</tbody>\n",
       "</table>"
      ]
     },
     "metadata": {},
     "output_type": "display_data"
    },
    {
     "data": {
      "text/plain": []
     },
     "execution_count": 17,
     "metadata": {},
     "output_type": "execute_result"
    }
   ],
   "source": [
    "yhat = 'p_DEFAULT_NEXT_MONTH'\n",
    "preds1 = model.predict(perturbed_sample).drop(['predict', 'p0'])\n",
    "preds1.columns = [yhat]\n",
    "perturbed_sample = perturbed_sample.cbind(preds1)\n",
    "perturbed_sample.head(rows=3)"
   ]
  },
  {
   "cell_type": "code",
   "execution_count": 18,
   "metadata": {},
   "outputs": [
    {
     "name": "stdout",
     "output_type": "stream",
     "text": [
      "glm Model Build progress: |███████████████████████████████████████████████| 100%\n",
      "\n",
      "Local Positive GLM Coefficients:\n",
      "PAY_6.5 month delay:      0.00012336828327697705\n",
      "PAY_6.8 month delay:      0.00017180686755602562\n",
      "AGE:                      0.0005214813169893759\n",
      "MARRIAGE.divorced:        0.0009908636978089515\n",
      "PAY_5.5 month delay:      0.0029210607400959312\n",
      "PAY_5.8 month delay:      0.0034766652812617737\n",
      "MARRIAGE.married:         0.00839449832911553\n",
      "EDUCATION.graduate school: 0.008778594515506156\n",
      "PAY_4.8 month delay:      0.009194057851981784\n",
      "PAY_6.2 month delay:      0.010989810282326163\n",
      "PAY_3.8 month delay:      0.011784255155206258\n",
      "PAY_4.4 month delay:      0.013724839005152558\n",
      "PAY_2.8 month delay:      0.015148689640095393\n",
      "PAY_3.4 month delay:      0.015894167507824828\n",
      "EDUCATION.high school:    0.017278858933894182\n",
      "PAY_0.8 month delay:      0.01866577067319948\n",
      "PAY_2.4 month delay:      0.01883620843956382\n",
      "PAY_5.2 month delay:      0.021213743679622924\n",
      "PAY_0.4 month delay:      0.02226790035088684\n",
      "PAY_6.6 month delay:      0.02579847200811933\n",
      "PAY_4.2 month delay:      0.02761803647343567\n",
      "PAY_3.2 month delay:      0.03054379350100437\n",
      "PAY_4.3 month delay:      0.031544128994333266\n",
      "PAY_3.3 month delay:      0.03433816489254767\n",
      "PAY_2.2 month delay:      0.03462878399791587\n",
      "PAY_5.6 month delay:      0.0355329696935376\n",
      "PAY_4.7 month delay:      0.037294721565890726\n",
      "PAY_2.3 month delay:      0.03816134857629098\n",
      "PAY_3.7 month delay:      0.03945791591841178\n",
      "PAY_0.2 month delay:      0.039808994576340025\n",
      "PAY_2.7 month delay:      0.042385398311322965\n",
      "PAY_0.3 month delay:      0.04255010418495568\n",
      "PAY_0.7 month delay:      0.04551379447400766\n",
      "PAY_6.3 month delay:      0.05188952365736261\n",
      "PAY_5.3 month delay:      0.06147834271742927\n",
      "Intercept:                0.5056288963178366\n",
      "\n",
      "Local GLM R-square:\n",
      "0.88\n"
     ]
    }
   ],
   "source": [
    "# initialize\n",
    "local_glm1 = H2OGeneralizedLinearEstimator(lambda_search=True, \n",
    "                                           weights_column='distance',\n",
    "                                           seed=12345)\n",
    "# train \n",
    "local_glm1.train(x=X, y=yhat, training_frame=perturbed_sample)\n",
    "\n",
    "# coefs\n",
    "print('\\nLocal Positive GLM Coefficients:')\n",
    "for c_name, c_val in sorted(local_glm1.coef().items(), key=operator.itemgetter(1)):\n",
    "    if c_val > 0.0:\n",
    "        print('%s %s' % (str(c_name + ':').ljust(25), c_val))\n",
    "        \n",
    "# r2\n",
    "print('\\nLocal GLM R-square:\\n%.2f' % local_glm1.r2())"
   ]
  },
  {
   "cell_type": "code",
   "execution_count": 21,
   "metadata": {},
   "outputs": [],
   "source": [
    "def plot_local_contrib(row, model, X): \n",
    "\n",
    "    \"\"\" Plots reason codes in a bar chart. \n",
    "    \n",
    "    Args:\n",
    "    \n",
    "        row: Row of H2OFrame to be explained.\n",
    "        model: H2O linear model used for generating reason codes.\n",
    "        X: List of model input variables.\n",
    "    \n",
    "    \"\"\"\n",
    "    \n",
    "    # initialize Pandas DataFrame to store results\n",
    "    local_contrib_frame = pd.DataFrame(columns=['Name', 'Local Contribution', 'Sign'])\n",
    "    \n",
    "    # multiply values in row by local glm coefficients    \n",
    "    for key, val in sorted(row[X].types.items()):\n",
    "        contrib = 0\n",
    "        name = ''\n",
    "        if val == 'enum':\n",
    "                level = row[key][0, 0]\n",
    "                name = '.'.join([str(key), str(level)])\n",
    "                if name in model.coef():\n",
    "                    contrib = model.coef()[name]\n",
    "        else:\n",
    "            name = key\n",
    "            if name in model.coef():\n",
    "                contrib = row[name][0, 0]*model.coef()[name]\n",
    "        \n",
    "        # save only non-zero values\n",
    "        if contrib != 0.0:\n",
    "            local_contrib_frame = local_contrib_frame.append({'Name': name,\n",
    "                                                              'Local Contribution': contrib,\n",
    "                                                              'Sign': contrib > 0}, \n",
    "                                                             ignore_index=True) \n",
    "    \n",
    "    # plot\n",
    "    _ = local_contrib_frame.plot(x='Name',\n",
    "                                 y='Local Contribution',\n",
    "                                 kind='bar', \n",
    "                                 title='Reason Codes', \n",
    "                                 #color=''.join(local_contrib_frame.Sign.map({True:'b', False:'g'}).values), \n",
    "                                 legend=False) \n",
    "    "
   ]
  },
  {
   "cell_type": "code",
   "execution_count": 22,
   "metadata": {},
   "outputs": [
    {
     "data": {
      "image/png": "[encoded data removed]",
      "text/plain": [
       "<matplotlib.figure.Figure at 0x7fae6eb077f0>"
      ]
     },
     "metadata": {},
     "output_type": "display_data"
    }
   ],
   "source": [
    " plot_local_contrib(row, local_glm1, X)"
   ]
  },
  {
   "cell_type": "code",
   "execution_count": 23,
   "metadata": {},
   "outputs": [
    {
     "name": "stdout",
     "output_type": "stream",
     "text": [
      "gbm prediction progress: |████████████████████████████████████████████████| 100%\n"
     ]
    },
    {
     "data": {
      "text/html": [
       "<table>\n",
       "<thead>\n",
       "<tr><th style=\"text-align: right;\">  ID</th><th style=\"text-align: right;\">  LIMIT_BAL</th><th>SEX   </th><th>EDUCATION  </th><th>MARRIAGE  </th><th style=\"text-align: right;\">  AGE</th><th>PAY_0                  </th><th>PAY_2                  </th><th>PAY_3                  </th><th>PAY_4                  </th><th>PAY_5                  </th><th>PAY_6                  </th><th style=\"text-align: right;\">  BILL_AMT1</th><th style=\"text-align: right;\">  BILL_AMT2</th><th style=\"text-align: right;\">  BILL_AMT3</th><th style=\"text-align: right;\">  BILL_AMT4</th><th style=\"text-align: right;\">  BILL_AMT5</th><th style=\"text-align: right;\">  BILL_AMT6</th><th style=\"text-align: right;\">  PAY_AMT1</th><th style=\"text-align: right;\">  PAY_AMT2</th><th style=\"text-align: right;\">  PAY_AMT3</th><th style=\"text-align: right;\">  PAY_AMT4</th><th style=\"text-align: right;\">  PAY_AMT5</th><th style=\"text-align: right;\">  PAY_AMT6</th><th style=\"text-align: right;\">  DEFAULT_NEXT_MONTH</th><th style=\"text-align: right;\">  p_DEFAULT_NEXT_MONTH</th></tr>\n",
       "</thead>\n",
       "<tbody>\n",
       "<tr><td style=\"text-align: right;\">   4</td><td style=\"text-align: right;\">      50000</td><td>female</td><td>university </td><td>married   </td><td style=\"text-align: right;\">   37</td><td>use of revolving credit</td><td>use of revolving credit</td><td>use of revolving credit</td><td>use of revolving credit</td><td>use of revolving credit</td><td>use of revolving credit</td><td style=\"text-align: right;\">      46990</td><td style=\"text-align: right;\">      48233</td><td style=\"text-align: right;\">      49291</td><td style=\"text-align: right;\">      28314</td><td style=\"text-align: right;\">      28959</td><td style=\"text-align: right;\">      29547</td><td style=\"text-align: right;\">      2000</td><td style=\"text-align: right;\">      2019</td><td style=\"text-align: right;\">      1200</td><td style=\"text-align: right;\">      1100</td><td style=\"text-align: right;\">      1069</td><td style=\"text-align: right;\">      1000</td><td style=\"text-align: right;\">                   0</td><td style=\"text-align: right;\">              0.144991</td></tr>\n",
       "<tr><td style=\"text-align: right;\">   8</td><td style=\"text-align: right;\">     100000</td><td>female</td><td>university </td><td>single    </td><td style=\"text-align: right;\">   23</td><td>use of revolving credit</td><td>pay duly               </td><td>pay duly               </td><td>use of revolving credit</td><td>use of revolving credit</td><td>pay duly               </td><td style=\"text-align: right;\">      11876</td><td style=\"text-align: right;\">        380</td><td style=\"text-align: right;\">        601</td><td style=\"text-align: right;\">        221</td><td style=\"text-align: right;\">       -159</td><td style=\"text-align: right;\">        567</td><td style=\"text-align: right;\">       380</td><td style=\"text-align: right;\">       601</td><td style=\"text-align: right;\">         0</td><td style=\"text-align: right;\">       581</td><td style=\"text-align: right;\">      1687</td><td style=\"text-align: right;\">      1542</td><td style=\"text-align: right;\">                   0</td><td style=\"text-align: right;\">              0.128193</td></tr>\n",
       "<tr><td style=\"text-align: right;\">  16</td><td style=\"text-align: right;\">      50000</td><td>female</td><td>high school</td><td>divorced  </td><td style=\"text-align: right;\">   23</td><td>1 month delay          </td><td>2 month delay          </td><td>use of revolving credit</td><td>use of revolving credit</td><td>use of revolving credit</td><td>use of revolving credit</td><td style=\"text-align: right;\">      50614</td><td style=\"text-align: right;\">      29173</td><td style=\"text-align: right;\">      28116</td><td style=\"text-align: right;\">      28771</td><td style=\"text-align: right;\">      29531</td><td style=\"text-align: right;\">      30211</td><td style=\"text-align: right;\">         0</td><td style=\"text-align: right;\">      1500</td><td style=\"text-align: right;\">      1100</td><td style=\"text-align: right;\">      1200</td><td style=\"text-align: right;\">      1300</td><td style=\"text-align: right;\">      1100</td><td style=\"text-align: right;\">                   0</td><td style=\"text-align: right;\">              0.325205</td></tr>\n",
       "</tbody>\n",
       "</table>"
      ]
     },
     "metadata": {},
     "output_type": "display_data"
    },
    {
     "data": {
      "text/plain": []
     },
     "execution_count": 23,
     "metadata": {},
     "output_type": "execute_result"
    }
   ],
   "source": [
    "preds2 = model.predict(test).drop(['predict', 'p0'])\n",
    "preds2.columns = [yhat]\n",
    "practical_sample = test.cbind(preds2)\n",
    "practical_sample = practical_sample[practical_sample['SEX'] == 'female']\n",
    "practical_sample.head(rows=3)"
   ]
  },
  {
   "cell_type": "code",
   "execution_count": 24,
   "metadata": {},
   "outputs": [
    {
     "name": "stdout",
     "output_type": "stream",
     "text": [
      "glm Model Build progress: |███████████████████████████████████████████████| 100%\n",
      "\n",
      "Local Positive GLM Coefficients:\n",
      "BILL_AMT5:                1.1826997991308345e-07\n",
      "BILL_AMT2:                1.40866409117354e-07\n",
      "PAY_2.use of revolving credit: 8.019899530507052e-05\n",
      "PAY_5.no consumption:     0.0005253910928260071\n",
      "AGE:                      0.0005358697742774277\n",
      "EDUCATION.high school:    0.001738945706593454\n",
      "PAY_6.5 month delay:      0.003746060705692238\n",
      "EDUCATION.university:     0.0050869233726203505\n",
      "MARRIAGE.divorced:        0.008137713429375004\n",
      "PAY_3.2 month delay:      0.009655714764721601\n",
      "PAY_6.7 month delay:      0.009949478307751001\n",
      "MARRIAGE.married:         0.010783461117748264\n",
      "PAY_6.2 month delay:      0.017777285984771147\n",
      "PAY_4.4 month delay:      0.018246956356881238\n",
      "PAY_0.5 month delay:      0.02282693801079417\n",
      "PAY_5.3 month delay:      0.02513913532234654\n",
      "PAY_2.2 month delay:      0.027053294000875572\n",
      "PAY_2.3 month delay:      0.027735314903293225\n",
      "PAY_3.3 month delay:      0.03306463224575794\n",
      "PAY_4.2 month delay:      0.034888814725250496\n",
      "PAY_5.2 month delay:      0.04227839273926825\n",
      "PAY_3.6 month delay:      0.045744519066213275\n",
      "PAY_5.7 month delay:      0.04899783921490372\n",
      "PAY_4.7 month delay:      0.06621325735295537\n",
      "PAY_2.7 month delay:      0.06967904222914757\n",
      "PAY_2.5 month delay:      0.07827450156661904\n",
      "PAY_0.8 month delay:      0.11612935759003508\n",
      "PAY_6.3 month delay:      0.12335032934322444\n",
      "PAY_2.6 month delay:      0.16221244593488762\n",
      "PAY_0.4 month delay:      0.251408547348665\n",
      "PAY_0.3 month delay:      0.2795924865330281\n",
      "PAY_0.2 month delay:      0.28633293810272625\n",
      "Intercept:                0.3907733223754482\n",
      "\n",
      "Local GLM R-square:\n",
      "0.93\n"
     ]
    }
   ],
   "source": [
    "# initialize\n",
    "local_glm2 = H2OGeneralizedLinearEstimator(lambda_search=True, seed=12345)\n",
    "\n",
    "# train \n",
    "local_glm2.train(x=X, y=yhat, training_frame=practical_sample)\n",
    "\n",
    "# coefs\n",
    "print('\\nLocal Positive GLM Coefficients:')\n",
    "for c_name, c_val in sorted(local_glm2.coef().items(), key=operator.itemgetter(1)):\n",
    "    if c_val > 0.0:\n",
    "        print('%s %s' % (str(c_name + ':').ljust(25), c_val))\n",
    "        \n",
    "# r2\n",
    "print('\\nLocal GLM R-square:\\n%.2f' % local_glm2.r2())"
   ]
  },
  {
   "cell_type": "code",
   "execution_count": 25,
   "metadata": {},
   "outputs": [
    {
     "name": "stdout",
     "output_type": "stream",
     "text": [
      "glm prediction progress: |████████████████████████████████████████████████| 100%\n"
     ]
    },
    {
     "data": {
      "image/png": "[encoded data removed]",
      "text/plain": [
       "<matplotlib.figure.Figure at 0x7fae6ee2c4e0>"
      ]
     },
     "metadata": {},
     "output_type": "display_data"
    }
   ],
   "source": [
    "# ranked predictions plot\n",
    "pred_frame = local_glm2.predict(practical_sample).cbind(practical_sample)\\\n",
    "                       .as_data_frame()[['predict', yhat  ]]\n",
    "\n",
    "pred_frame.columns = ['Surrogate Preds.', 'ML Preds.']\n",
    "pred_frame.sort_values(by='ML Preds.', inplace=True)\n",
    "pred_frame.reset_index(inplace=True, drop=True)\n",
    "_ = pred_frame.plot(title='Ranked Predictions Plot')"
   ]
  },
  {
   "cell_type": "code",
   "execution_count": 26,
   "metadata": {},
   "outputs": [
    {
     "data": {
      "image/png": "[encoded data removed]",
      "text/plain": [
       "<matplotlib.figure.Figure at 0x7fae663d0e48>"
      ]
     },
     "metadata": {},
     "output_type": "display_data"
    }
   ],
   "source": [
    "plot_local_contrib(row, local_glm2, X)     "
   ]
  }
 ],
 "metadata": {
  "kernelspec": {
   "display_name": "Python 3",
   "language": "python",
   "name": "python3"
  },
  "language_info": {
   "codemirror_mode": {
    "name": "ipython",
    "version": 3
   },
   "file_extension": ".py",
   "mimetype": "text/x-python",
   "name": "python",
   "nbconvert_exporter": "python",
   "pygments_lexer": "ipython3",
   "version": "3.5.4"
  }
 },
 "nbformat": 4,
 "nbformat_minor": 2
}
